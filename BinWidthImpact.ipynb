{
  "cells": [
    {
      "cell_type": "markdown",
      "metadata": {
        "id": "view-in-github",
        "colab_type": "text"
      },
      "source": [
        "<a href=\"https://colab.research.google.com/github/geoUFSC/geostats/blob/main/BinWidthImpact.ipynb\" target=\"_parent\"><img src=\"https://colab.research.google.com/assets/colab-badge.svg\" alt=\"Open In Colab\"/></a>"
      ]
    },
    {
      "cell_type": "markdown",
      "id": "f9ab0495",
      "metadata": {
        "id": "f9ab0495"
      },
      "source": [
        "## Testing the impact of bin width"
      ]
    },
    {
      "cell_type": "code",
      "execution_count": null,
      "id": "952b5c8e",
      "metadata": {
        "id": "952b5c8e"
      },
      "outputs": [],
      "source": [
        "import numpy as np\n",
        "import pandas as pd\n",
        "import matplotlib.pyplot as plt\n",
        "\n",
        "# Try to import ipywidgets for interactivity\n",
        "widgets_ok = False\n",
        "try:\n",
        "    from ipywidgets import interact, IntSlider, Checkbox\n",
        "    widgets_ok = True\n",
        "except Exception:\n",
        "    widgets_ok = False\n",
        "\n",
        "# 1) Generate dataset\n",
        "np.random.seed(123)\n",
        "n_samples =150\n",
        "mu, sigma = 35, 1\n",
        "porosity = np.random.normal(mu, sigma, n_samples)\n",
        "porosity = np.clip(porosity, 0, 65)\n",
        "\n",
        "import os\n",
        "os.makedirs(\"data\", exist_ok=True)\n",
        "csv_path = \"data/soil_porosity_dataset.csv\"\n",
        "\n",
        "import pandas as pd\n",
        "df = pd.DataFrame({\"sample_id\": np.arange(1, n_samples+1), \"porosity\": porosity})\n",
        "df.to_csv(csv_path, index=False)\n",
        "\n",
        "# 2) Bin recommendations\n",
        "def freedman_diaconis_bins(data):\n",
        "    q75, q25 = np.percentile(data, [75, 25])\n",
        "    iqr = q75 - q25\n",
        "    if iqr == 0:\n",
        "        return 10\n",
        "    h = 2 * iqr / (len(data) ** (1/3))\n",
        "    if h <= 0:\n",
        "        return 10\n",
        "    return max(int(np.ceil((data.max() - data.min()) / h)), 5)\n",
        "\n",
        "def scott_bins(data):\n",
        "    s = np.std(data, ddof=1)\n",
        "    if s == 0:\n",
        "        return 10\n",
        "    h = 3.5 * s / (len(data) ** (1/3))\n",
        "    if h <= 0:\n",
        "        return 10\n",
        "    return max(int(np.ceil((data.max() - data.min()) / h)), 5)\n",
        "\n",
        "def sturges_bins(n):\n",
        "    return max(int(np.ceil(np.log2(n) + 1)), 5)\n",
        "\n",
        "fd_bins = freedman_diaconis_bins(df[\"porosity\"].values)\n",
        "sc_bins = scott_bins(df[\"porosity\"].values)\n",
        "st_bins = sturges_bins(len(df))\n",
        "\n",
        "# 3) Plot function\n",
        "def plot_hist(bins=20, density=True, show_mean=True, show_std=True):\n",
        "    plt.figure(figsize=(8,5))\n",
        "    plt.hist(df[\"porosity\"], bins=bins, density=density, edgecolor=\"black\")\n",
        "    plt.xlabel(\"Soil Porosity (%)\")\n",
        "    plt.ylabel(\"Probability\" if density else \"Frequency\")\n",
        "    plt.title(\"Histogram of Soil Porosity\")\n",
        "    if show_mean:\n",
        "        plt.axvline(df[\"porosity\"].mean(), linestyle=\"--\", linewidth=2, label=\"Mean\")\n",
        "    if show_std:\n",
        "        m = df[\"porosity\"].mean(); s = df[\"porosity\"].std(ddof=1)\n",
        "        plt.axvline(m - s, linestyle=\":\", linewidth=1.5, label=\"±1 SD\")\n",
        "        plt.axvline(m + s, linestyle=\":\", linewidth=1.5)\n",
        "    txt = f\"Recommended bins: \\nFD={fd_bins}, Scott={sc_bins}, Sturges={st_bins}\"\n",
        "    plt.text(0.02, 0.98, txt, transform=plt.gca().transAxes, va=\"top\")\n",
        "    if density:\n",
        "        plt.ylim(bottom=0, top=1)\n",
        "    else:\n",
        "        plt.ylim(bottom=0, top=n_samples+1)\n",
        "    plt.grid(True)\n",
        "    plt.legend()\n",
        "    plt.show()\n",
        "\n",
        "if widgets_ok:\n",
        "    interact(plot_hist,\n",
        "             bins=IntSlider(value=20, min=1, max=60, step=1, description=\"# of Bins\"),\n",
        "             density=Checkbox(value=True, description=\"Normalize (Probability)\"),\n",
        "             show_mean=Checkbox(value=True, description=\"Show Mean\"),\n",
        "             show_std=Checkbox(value=True, description=\"Show ±1 SD\"))\n",
        "else:\n",
        "    plot_hist(bins=20, density=True, show_mean=True, show_std=True)\n",
        "\n"
      ]
    }
  ],
  "metadata": {
    "kernelspec": {
      "display_name": "Python 3",
      "language": "python",
      "name": "python3"
    },
    "language_info": {
      "codemirror_mode": {
        "name": "ipython",
        "version": 3
      },
      "file_extension": ".py",
      "mimetype": "text/x-python",
      "name": "python",
      "nbconvert_exporter": "python",
      "pygments_lexer": "ipython3",
      "version": "3.11.9"
    },
    "colab": {
      "provenance": [],
      "include_colab_link": true
    }
  },
  "nbformat": 4,
  "nbformat_minor": 5
}