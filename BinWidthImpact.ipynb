{
 "cells": [
  {
   "cell_type": "code",
   "execution_count": null,
   "id": "952b5c8e",
   "metadata": {},
   "outputs": [
    {
     "data": {
      "application/vnd.jupyter.widget-view+json": {
       "model_id": "179236cadb2c43dd928422ad54b8b47c",
       "version_major": 2,
       "version_minor": 0
      },
      "text/plain": [
       "interactive(children=(IntSlider(value=20, description='Bins', max=60, min=5), Checkbox(value=True, description…"
      ]
     },
     "metadata": {},
     "output_type": "display_data"
    },
    {
     "ename": "ModuleNotFoundError",
     "evalue": "No module named 'caas_jupyter_tools'",
     "output_type": "error",
     "traceback": [
      "\u001b[1;31m---------------------------------------------------------------------------\u001b[0m",
      "\u001b[1;31mModuleNotFoundError\u001b[0m                       Traceback (most recent call last)",
      "Cell \u001b[1;32mIn[6], line 84\u001b[0m\n\u001b[0;32m     81\u001b[0m     plot_hist(bins\u001b[38;5;241m=\u001b[39m\u001b[38;5;241m20\u001b[39m, density\u001b[38;5;241m=\u001b[39m\u001b[38;5;28;01mTrue\u001b[39;00m, show_mean\u001b[38;5;241m=\u001b[39m\u001b[38;5;28;01mTrue\u001b[39;00m, show_std\u001b[38;5;241m=\u001b[39m\u001b[38;5;28;01mTrue\u001b[39;00m)\n\u001b[0;32m     83\u001b[0m \u001b[38;5;66;03m# Display the dataset in a table for students\u001b[39;00m\n\u001b[1;32m---> 84\u001b[0m \u001b[38;5;28;01mimport\u001b[39;00m \u001b[38;5;21;01mcaas_jupyter_tools\u001b[39;00m\n\u001b[0;32m     85\u001b[0m caas_jupyter_tools\u001b[38;5;241m.\u001b[39mdisplay_dataframe_to_user(\u001b[38;5;124m\"\u001b[39m\u001b[38;5;124mSoil Porosity Dataset\u001b[39m\u001b[38;5;124m\"\u001b[39m, df)\n",
      "\u001b[1;31mModuleNotFoundError\u001b[0m: No module named 'caas_jupyter_tools'"
     ]
    }
   ],
   "source": [
    "import numpy as np\n",
    "import pandas as pd\n",
    "import matplotlib.pyplot as plt\n",
    "\n",
    "# Try to import ipywidgets for interactivity\n",
    "widgets_ok = False\n",
    "try:\n",
    "    from ipywidgets import interact, IntSlider, Checkbox\n",
    "    widgets_ok = True\n",
    "except Exception:\n",
    "    widgets_ok = False\n",
    "\n",
    "# 1) Generate dataset\n",
    "np.random.seed(123)\n",
    "n_samples = 600\n",
    "mu, sigma = 35, 5\n",
    "porosity = np.random.normal(mu, sigma, n_samples)\n",
    "porosity = np.clip(porosity, 5, 65)\n",
    "\n",
    "import os\n",
    "os.makedirs(\"I:\\My Drive\\Python\\GitHub\\geostats\\Images\", exist_ok=True)\n",
    "csv_path = \"I:\\My Drive\\Python\\GitHub\\geostats\\Images\\soil_porosity_dataset.csv\"\n",
    "\n",
    "import pandas as pd\n",
    "df = pd.DataFrame({\"sample_id\": np.arange(1, n_samples+1), \"porosity\": porosity})\n",
    "df.to_csv(csv_path, index=False)\n",
    "\n",
    "# 2) Bin recommendations\n",
    "def freedman_diaconis_bins(data):\n",
    "    q75, q25 = np.percentile(data, [75, 25])\n",
    "    iqr = q75 - q25\n",
    "    if iqr == 0:\n",
    "        return 10\n",
    "    h = 2 * iqr / (len(data) ** (1/3))\n",
    "    if h <= 0:\n",
    "        return 10\n",
    "    return max(int(np.ceil((data.max() - data.min()) / h)), 5)\n",
    "\n",
    "def scott_bins(data):\n",
    "    s = np.std(data, ddof=1)\n",
    "    if s == 0:\n",
    "        return 10\n",
    "    h = 3.5 * s / (len(data) ** (1/3))\n",
    "    if h <= 0:\n",
    "        return 10\n",
    "    return max(int(np.ceil((data.max() - data.min()) / h)), 5)\n",
    "\n",
    "def sturges_bins(n):\n",
    "    return max(int(np.ceil(np.log2(n) + 1)), 5)\n",
    "\n",
    "fd_bins = freedman_diaconis_bins(df[\"porosity\"].values)\n",
    "sc_bins = scott_bins(df[\"porosity\"].values)\n",
    "st_bins = sturges_bins(len(df))\n",
    "\n",
    "# 3) Plot function\n",
    "def plot_hist(bins=20, density=True, show_mean=True, show_std=True):\n",
    "    plt.figure(figsize=(8,5))\n",
    "    plt.hist(df[\"porosity\"], bins=bins, density=density, edgecolor=\"black\")\n",
    "    plt.xlabel(\"Soil Porosity (%)\")\n",
    "    plt.ylabel(\"Probability\" if density else \"Frequency\")\n",
    "    plt.title(\"Histogram of Soil Porosity (adjust bin size)\")\n",
    "    if show_mean:\n",
    "        plt.axvline(df[\"porosity\"].mean(), linestyle=\"--\", linewidth=2, label=\"Mean\")\n",
    "    if show_std:\n",
    "        m = df[\"porosity\"].mean(); s = df[\"porosity\"].std(ddof=1)\n",
    "        plt.axvline(m - s, linestyle=\":\", linewidth=1.5, label=\"±1 SD\")\n",
    "        plt.axvline(m + s, linestyle=\":\", linewidth=1.5)\n",
    "    txt = f\"Recommended bins: \\nFD={fd_bins}, Scott={sc_bins}, Sturges={st_bins}\"\n",
    "    plt.text(0.02, 0.98, txt, transform=plt.gca().transAxes, va=\"top\")\n",
    "    plt.grid(True)\n",
    "    plt.legend()\n",
    "    plt.show()\n",
    "\n",
    "if widgets_ok:\n",
    "    interact(plot_hist,\n",
    "             bins=IntSlider(value=20, min=5, max=60, step=1, description=\"Bins\"),\n",
    "             density=Checkbox(value=True, description=\"Normalize (Probability)\"),\n",
    "             show_mean=Checkbox(value=True, description=\"Show Mean\"),\n",
    "             show_std=Checkbox(value=True, description=\"Show ±1 SD\"))\n",
    "else:\n",
    "    plot_hist(bins=20, density=True, show_mean=True, show_std=True)\n",
    "\n",
    "# Display the dataset in a table for students\n",
    "import caas_jupyter_tools\n",
    "caas_jupyter_tools.display_dataframe_to_user(\"Soil Porosity Dataset\", df)"
   ]
  }
 ],
 "metadata": {
  "kernelspec": {
   "display_name": "Python 3",
   "language": "python",
   "name": "python3"
  },
  "language_info": {
   "codemirror_mode": {
    "name": "ipython",
    "version": 3
   },
   "file_extension": ".py",
   "mimetype": "text/x-python",
   "name": "python",
   "nbconvert_exporter": "python",
   "pygments_lexer": "ipython3",
   "version": "3.11.9"
  }
 },
 "nbformat": 4,
 "nbformat_minor": 5
}
